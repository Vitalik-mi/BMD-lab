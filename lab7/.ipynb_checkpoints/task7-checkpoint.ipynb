{
 "cells": [
  {
   "cell_type": "markdown",
   "metadata": {},
   "source": [
    "<h1>БМД</h1>\n",
    "<h1>Біжнюк В.В</h1>\n",
    "<h1>лаб№7</h1>"
   ]
  },
  {
   "cell_type": "markdown",
   "metadata": {
    "colab_type": "text",
    "id": "0dKG-0kcOvBa"
   },
   "source": [
    "# t-критерій Стьюдента для незалежних вибірок"
   ]
  },
  {
   "cell_type": "markdown",
   "metadata": {
    "colab_type": "text",
    "id": "cIlCjn4RO0Gr"
   },
   "source": [
    "##Теоретичні відомості"
   ]
  },
  {
   "cell_type": "markdown",
   "metadata": {
    "colab_type": "text",
    "id": "fIEmaRDC8EYQ"
   },
   "source": [
    "t-критерій Стьюдента для незалежних вибірок порівнює середні двох груп, щоб визначити, чи є статистичні достовірні докази того, що групи відрізняються. **Це параметричний тест.**\n"
   ]
  },
  {
   "cell_type": "markdown",
   "metadata": {
    "colab_type": "text",
    "id": "1COxk0l1O87G"
   },
   "source": [
    "### Область застосування"
   ]
  },
  {
   "cell_type": "markdown",
   "metadata": {
    "colab_type": "text",
    "id": "i2ExJ3XaPTr4"
   },
   "source": [
    "t-критерій Стьюдента для незалежних вибірок використовується для:\n",
    "\n",
    "* визначення статистичних відмінностей між середніми двох груп\n",
    "\n",
    "*Примітка.* Даний тест може порівнювати середні лише для двох (і лише двох) груп. Він не може проводити порівняння більш ніж двох груп. "
   ]
  },
  {
   "cell_type": "markdown",
   "metadata": {
    "colab_type": "text",
    "id": "dpLSZD4mPDMx"
   },
   "source": [
    "### Вимоги до даних"
   ]
  },
  {
   "cell_type": "markdown",
   "metadata": {
    "colab_type": "text",
    "id": "pta7ByUO8Yxc"
   },
   "source": [
    "Ваші дані повинні відповідати наступним вимогам:\n",
    "\n",
    "1. Залежна змінна є кількісною і безперервною.\n",
    "2. Незалежна змінна є категоріальною.\n",
    "3. Немає взаємозв'язку між випробуванями у групах. Це означає що:\n",
    "* суб'єкти в першій групі також не можуть бути у другій групі\n",
    "* жоден суб'єкт в будь-якій групі не може впливати на суб'єктів в іншій групі\n",
    "* жодна група не може впливати на іншу групу\n",
    "Порушення цього припущення дасть неточне значення p\n",
    "4. Вибірка даних є випадковою\n",
    "5. Нормальний розподіл залежної (кількісної) змінної для кожної групи\n",
    "* ненормальний розподіл значно знижує потужність (точність) тесту\n",
    "* при дослідженні великих груп порушення нормальності все ще може дати точні значення p\n",
    "6. Однорідність дисперсій. \n",
    "* коли це припущення порушено і розміри вибірки для кожної групи відрізняються, значення p не є надійним. В цьому випадку застосовують альтернативний тест, який назіваеться t тестом Велча. Даний тест ґрунтується на припущенні відмінних дисперсій сукупності. \n",
    "7. Дані не містять викидів. \n",
    "\n",
    "Дослідники також мають притримуватися кількох правил:\n",
    "\n",
    "* Кожна група повинна мати щонайменше 6 спостережень, в ідеалі більше. \n",
    "\n",
    "* Збалансований дизайн (тобто однакова кількість спостережень у кожній групі). Групи, що мають значну відмінність в об'ємі можуть змінити достовірність отриманих результатів."
   ]
  },
  {
   "cell_type": "markdown",
   "metadata": {
    "colab_type": "text",
    "id": "P7aeDpVjPF-Z"
   },
   "source": [
    "### Гіпотеза"
   ]
  },
  {
   "cell_type": "markdown",
   "metadata": {
    "colab_type": "text",
    "id": "EPfCMt59_oz0"
   },
   "source": [
    "Гіпотеза, яка перевіряєть даним тестом може бути виражена наступним чином:\n",
    "\n",
    "$H_0 : μ_1  = μ_2$ («середні двох незалежних груп рівні»)\n",
    "\n",
    "$H_1 : μ_1  ≠ μ_2$ («середні двох незалежних груп відмінні»)\n",
    "\n",
    "або:\n",
    "\n",
    "$H_0 : μ_1  - μ_2 = 0$ («різниця між середніми у незалежних групах за показником, що досліджується рівна 0»)\n",
    "\n",
    "$H_1 : μ_1 -  μ_2$ ≠ 0 $ («різниця між середніми у незалежних групах за показником, що досліджується не рівна 0»)\n",
    "\n",
    "Тут $μ_1$ - середнє значення змінної в першій групі; $μ_2$ - середнє значення змінної в першій групі."
   ]
  },
  {
   "cell_type": "markdown",
   "metadata": {
    "colab_type": "text",
    "id": "ZfYgprcrPLGZ"
   },
   "source": [
    "### Алгоритм розрахунку"
   ]
  },
  {
   "cell_type": "markdown",
   "metadata": {
    "colab_type": "text",
    "id": "Hrnm4szRAC3m"
   },
   "source": [
    "Зважаючи на те, що однією з вимог для використанная данного критерію є однорідність дисперсій перед проведенням t-критерію Стьюдента для незалежних вибірок необхідним є проведення тесту Лівеня.\n"
   ]
  },
  {
   "cell_type": "markdown",
   "metadata": {
    "colab_type": "text",
    "id": "akpPreH4AuW_"
   },
   "source": [
    "#### Тест Лівеня для перевірки рівності дисперсій"
   ]
  },
  {
   "cell_type": "markdown",
   "metadata": {
    "colab_type": "text",
    "id": "jKwhq22PA18u"
   },
   "source": [
    "Нульова гіпотеза для даного тесту визлядає наступним чином:\n",
    "\n",
    "$$H_0: \\sigma_1^2 = \\sigma_2^2$$\n",
    "\n",
    "Генеральні дисперсії оцінюються на основі вибірок, а сам критерій є відношенням однієї дисперсії до іншої:\n",
    "\n",
    "$$F = \\frac{\\sigma_1^2}{\\sigma_2^2}$$\n",
    "\n",
    "При цьому на практиці в чисельнику розміщують більшу дисперсію, і знаменник - меншу.\n",
    "\n",
    "Ступінь свободи для даного тесту розраховується окремо для кожної вибірки: \n",
    "\n",
    "$$df = n - 1 $$\n",
    "\n",
    "За допомогою [таблиці критичних значень](https://drive.google.com/open?id=128lJvGOp013TuMF5Tcfr5Q2AC7FFvXEl)  знаходимо критичне значення. Якщо розраховане значення більше критичного - нульову гіпотезу відхиляють та роблять висновок про статистичну відмінність дисперсій. В протилежному випадку приймають нульову гіпотезу.\n"
   ]
  },
  {
   "cell_type": "markdown",
   "metadata": {
    "colab_type": "text",
    "id": "nTmiY7f7HCFe"
   },
   "source": [
    "#### t критерій для незалежних вибірок"
   ]
  },
  {
   "cell_type": "markdown",
   "metadata": {
    "colab_type": "text",
    "id": "35LaS12fHKqY"
   },
   "source": [
    "1. В залежності від того, чи підтвердується гіпотеза про рівність дисперсій застосовують один з двох підходів до роозрахунку криетрію для незалежних вибірок.\n",
    "\n",
    "#### Припускається рівність дисперсій\n",
    "\n",
    "Розрахунок t-критерію за формулою:\n",
    "\n",
    "$$t = \\frac{|M_1 - M_2|}{\\sqrt{\\frac{\\sigma_1^2}{N_1}+\\frac{\\sigma_2^2}{N_2}}} $$\n",
    "\n",
    "#### Рівність дисперсій не доведено\n",
    "\n",
    "Розрахунок t-критерію за формулою:\n",
    "\n",
    "$$t = \\frac{|M_1 - M_2|}{\\sqrt{\\frac{(N_1 - 1)\\sigma_1^2 + (N_2 - 1)\\sigma_2^2}{N_1 + N_2 - 2}(\\frac{1}{N_1}+\\frac{1}{N_2})}} $$\n",
    "\n",
    "Для обох формул:\n",
    "\n",
    "$M_1, M_2$ - середньоарифметичне для двох груп\n",
    "\n",
    "$\\sigma_1, \\sigma_2$ - стандартне відхилення\n",
    "\n",
    "$N_1, N_2$ - кількість спостережень в вибірках\n",
    "\n",
    "\n",
    "2. Визначаємо ступінь свободи:\n",
    "\n",
    "$$ \\,df = N_1 + N_2 - 2 $$\n",
    "\n",
    "3. Визначаємо по [таблиці критичних значень t-Стьюдента](https://drive.google.com/open?id=12IEWx2mkE-2_jkMgkHwvUUlVfCcmH7Ub) критичне значення.\n",
    "\n",
    "Якщо розраховане значення більше критичного - нульову гіпотезу відхиляють та роблять висновок про статистичну відмінність середніх. В протилежному випадку приймають нульову гіпотезу.\n"
   ]
  },
  {
   "cell_type": "markdown",
   "metadata": {
    "colab_type": "text",
    "id": "Q4l7F1kePOoQ"
   },
   "source": [
    "## Завдання\n"
   ]
  },
  {
   "cell_type": "markdown",
   "metadata": {
    "colab_type": "text",
    "id": "dKlVUziSKf3v"
   },
   "source": [
    "# Завдання\n",
    "\n",
    "1. Обрати реальні дані з kaggle або сгенерувати випадкові дані. Дані мають відповідати вимогам викладеним вище. \n",
    "\n",
    "2. Побудувати графік, що відображає розкид даних в групах. Приклад:\n",
    "![alt text](https://s3.amazonaws.com/libapps/accounts/2515/images/spss_paired-t_example_boxplot.PNG)\n",
    "\n",
    "3. Написати функції:\n",
    "* для оцінки вімінностей дисперсій між групами за критерієм Лівеня. Функція має повертати значення тесту  та результат оцінки рівності дисперсій (significant або not significant).\n",
    "\n",
    "* для визначення відмінності між групами за критерієм Стьюдента в залежності від рівності/відмінності дисперсій. Функція має повертати значення критерію Стьюдента,значення ступеня свободи та результат оцінки значимості зв'зку (significant або not significant). \n",
    "\n",
    "4. Перевірити розбіжність на між групами на даних з п. 1. \n",
    "\n"
   ]
  },
  {
   "cell_type": "code",
   "execution_count": 1,
   "metadata": {},
   "outputs": [],
   "source": [
    "import seaborn as sns\n",
    "import numpy as np\n",
    "import matplotlib.pyplot as plt\n",
    "import pandas as pd\n",
    "%matplotlib inline"
   ]
  },
  {
   "cell_type": "code",
   "execution_count": 21,
   "metadata": {},
   "outputs": [
    {
     "data": {
      "text/html": [
       "<div>\n",
       "<style scoped>\n",
       "    .dataframe tbody tr th:only-of-type {\n",
       "        vertical-align: middle;\n",
       "    }\n",
       "\n",
       "    .dataframe tbody tr th {\n",
       "        vertical-align: top;\n",
       "    }\n",
       "\n",
       "    .dataframe thead th {\n",
       "        text-align: right;\n",
       "    }\n",
       "</style>\n",
       "<table border=\"1\" class=\"dataframe\">\n",
       "  <thead>\n",
       "    <tr style=\"text-align: right;\">\n",
       "      <th></th>\n",
       "      <th>Music</th>\n",
       "      <th>Slow songs or fast songs</th>\n",
       "      <th>Dance</th>\n",
       "      <th>Folk</th>\n",
       "      <th>Country</th>\n",
       "      <th>Classical music</th>\n",
       "      <th>Musical</th>\n",
       "      <th>Pop</th>\n",
       "      <th>Rock</th>\n",
       "      <th>Metal or Hardrock</th>\n",
       "      <th>...</th>\n",
       "      <th>Age</th>\n",
       "      <th>Height</th>\n",
       "      <th>Weight</th>\n",
       "      <th>Number of siblings</th>\n",
       "      <th>Gender</th>\n",
       "      <th>Left - right handed</th>\n",
       "      <th>Education</th>\n",
       "      <th>Only child</th>\n",
       "      <th>Village - town</th>\n",
       "      <th>House - block of flats</th>\n",
       "    </tr>\n",
       "  </thead>\n",
       "  <tbody>\n",
       "    <tr>\n",
       "      <th>0</th>\n",
       "      <td>5.0</td>\n",
       "      <td>3.0</td>\n",
       "      <td>2.0</td>\n",
       "      <td>1.0</td>\n",
       "      <td>2.0</td>\n",
       "      <td>2.0</td>\n",
       "      <td>1.0</td>\n",
       "      <td>5.0</td>\n",
       "      <td>5.0</td>\n",
       "      <td>1.0</td>\n",
       "      <td>...</td>\n",
       "      <td>20.0</td>\n",
       "      <td>163.0</td>\n",
       "      <td>48.0</td>\n",
       "      <td>1.0</td>\n",
       "      <td>female</td>\n",
       "      <td>right handed</td>\n",
       "      <td>college/bachelor degree</td>\n",
       "      <td>no</td>\n",
       "      <td>village</td>\n",
       "      <td>block of flats</td>\n",
       "    </tr>\n",
       "    <tr>\n",
       "      <th>1</th>\n",
       "      <td>4.0</td>\n",
       "      <td>4.0</td>\n",
       "      <td>2.0</td>\n",
       "      <td>1.0</td>\n",
       "      <td>1.0</td>\n",
       "      <td>1.0</td>\n",
       "      <td>2.0</td>\n",
       "      <td>3.0</td>\n",
       "      <td>5.0</td>\n",
       "      <td>4.0</td>\n",
       "      <td>...</td>\n",
       "      <td>19.0</td>\n",
       "      <td>163.0</td>\n",
       "      <td>58.0</td>\n",
       "      <td>2.0</td>\n",
       "      <td>female</td>\n",
       "      <td>right handed</td>\n",
       "      <td>college/bachelor degree</td>\n",
       "      <td>no</td>\n",
       "      <td>city</td>\n",
       "      <td>block of flats</td>\n",
       "    </tr>\n",
       "    <tr>\n",
       "      <th>2</th>\n",
       "      <td>5.0</td>\n",
       "      <td>5.0</td>\n",
       "      <td>2.0</td>\n",
       "      <td>2.0</td>\n",
       "      <td>3.0</td>\n",
       "      <td>4.0</td>\n",
       "      <td>5.0</td>\n",
       "      <td>3.0</td>\n",
       "      <td>5.0</td>\n",
       "      <td>3.0</td>\n",
       "      <td>...</td>\n",
       "      <td>20.0</td>\n",
       "      <td>176.0</td>\n",
       "      <td>67.0</td>\n",
       "      <td>2.0</td>\n",
       "      <td>female</td>\n",
       "      <td>right handed</td>\n",
       "      <td>secondary school</td>\n",
       "      <td>no</td>\n",
       "      <td>city</td>\n",
       "      <td>block of flats</td>\n",
       "    </tr>\n",
       "    <tr>\n",
       "      <th>3</th>\n",
       "      <td>5.0</td>\n",
       "      <td>3.0</td>\n",
       "      <td>2.0</td>\n",
       "      <td>1.0</td>\n",
       "      <td>1.0</td>\n",
       "      <td>1.0</td>\n",
       "      <td>1.0</td>\n",
       "      <td>2.0</td>\n",
       "      <td>2.0</td>\n",
       "      <td>1.0</td>\n",
       "      <td>...</td>\n",
       "      <td>22.0</td>\n",
       "      <td>172.0</td>\n",
       "      <td>59.0</td>\n",
       "      <td>1.0</td>\n",
       "      <td>female</td>\n",
       "      <td>right handed</td>\n",
       "      <td>college/bachelor degree</td>\n",
       "      <td>yes</td>\n",
       "      <td>city</td>\n",
       "      <td>house/bungalow</td>\n",
       "    </tr>\n",
       "    <tr>\n",
       "      <th>4</th>\n",
       "      <td>5.0</td>\n",
       "      <td>3.0</td>\n",
       "      <td>4.0</td>\n",
       "      <td>3.0</td>\n",
       "      <td>2.0</td>\n",
       "      <td>4.0</td>\n",
       "      <td>3.0</td>\n",
       "      <td>5.0</td>\n",
       "      <td>3.0</td>\n",
       "      <td>1.0</td>\n",
       "      <td>...</td>\n",
       "      <td>20.0</td>\n",
       "      <td>170.0</td>\n",
       "      <td>59.0</td>\n",
       "      <td>1.0</td>\n",
       "      <td>female</td>\n",
       "      <td>right handed</td>\n",
       "      <td>secondary school</td>\n",
       "      <td>no</td>\n",
       "      <td>village</td>\n",
       "      <td>house/bungalow</td>\n",
       "    </tr>\n",
       "    <tr>\n",
       "      <th>...</th>\n",
       "      <td>...</td>\n",
       "      <td>...</td>\n",
       "      <td>...</td>\n",
       "      <td>...</td>\n",
       "      <td>...</td>\n",
       "      <td>...</td>\n",
       "      <td>...</td>\n",
       "      <td>...</td>\n",
       "      <td>...</td>\n",
       "      <td>...</td>\n",
       "      <td>...</td>\n",
       "      <td>...</td>\n",
       "      <td>...</td>\n",
       "      <td>...</td>\n",
       "      <td>...</td>\n",
       "      <td>...</td>\n",
       "      <td>...</td>\n",
       "      <td>...</td>\n",
       "      <td>...</td>\n",
       "      <td>...</td>\n",
       "      <td>...</td>\n",
       "    </tr>\n",
       "    <tr>\n",
       "      <th>1005</th>\n",
       "      <td>5.0</td>\n",
       "      <td>2.0</td>\n",
       "      <td>5.0</td>\n",
       "      <td>2.0</td>\n",
       "      <td>2.0</td>\n",
       "      <td>5.0</td>\n",
       "      <td>4.0</td>\n",
       "      <td>4.0</td>\n",
       "      <td>4.0</td>\n",
       "      <td>3.0</td>\n",
       "      <td>...</td>\n",
       "      <td>20.0</td>\n",
       "      <td>164.0</td>\n",
       "      <td>57.0</td>\n",
       "      <td>1.0</td>\n",
       "      <td>female</td>\n",
       "      <td>right handed</td>\n",
       "      <td>secondary school</td>\n",
       "      <td>no</td>\n",
       "      <td>city</td>\n",
       "      <td>house/bungalow</td>\n",
       "    </tr>\n",
       "    <tr>\n",
       "      <th>1006</th>\n",
       "      <td>4.0</td>\n",
       "      <td>4.0</td>\n",
       "      <td>5.0</td>\n",
       "      <td>1.0</td>\n",
       "      <td>3.0</td>\n",
       "      <td>4.0</td>\n",
       "      <td>1.0</td>\n",
       "      <td>4.0</td>\n",
       "      <td>1.0</td>\n",
       "      <td>1.0</td>\n",
       "      <td>...</td>\n",
       "      <td>27.0</td>\n",
       "      <td>183.0</td>\n",
       "      <td>80.0</td>\n",
       "      <td>5.0</td>\n",
       "      <td>male</td>\n",
       "      <td>left handed</td>\n",
       "      <td>masters degree</td>\n",
       "      <td>no</td>\n",
       "      <td>village</td>\n",
       "      <td>house/bungalow</td>\n",
       "    </tr>\n",
       "    <tr>\n",
       "      <th>1007</th>\n",
       "      <td>4.0</td>\n",
       "      <td>3.0</td>\n",
       "      <td>1.0</td>\n",
       "      <td>1.0</td>\n",
       "      <td>2.0</td>\n",
       "      <td>2.0</td>\n",
       "      <td>2.0</td>\n",
       "      <td>3.0</td>\n",
       "      <td>4.0</td>\n",
       "      <td>1.0</td>\n",
       "      <td>...</td>\n",
       "      <td>18.0</td>\n",
       "      <td>173.0</td>\n",
       "      <td>75.0</td>\n",
       "      <td>0.0</td>\n",
       "      <td>female</td>\n",
       "      <td>right handed</td>\n",
       "      <td>secondary school</td>\n",
       "      <td>yes</td>\n",
       "      <td>city</td>\n",
       "      <td>block of flats</td>\n",
       "    </tr>\n",
       "    <tr>\n",
       "      <th>1008</th>\n",
       "      <td>5.0</td>\n",
       "      <td>3.0</td>\n",
       "      <td>3.0</td>\n",
       "      <td>3.0</td>\n",
       "      <td>1.0</td>\n",
       "      <td>3.0</td>\n",
       "      <td>1.0</td>\n",
       "      <td>3.0</td>\n",
       "      <td>4.0</td>\n",
       "      <td>1.0</td>\n",
       "      <td>...</td>\n",
       "      <td>25.0</td>\n",
       "      <td>173.0</td>\n",
       "      <td>58.0</td>\n",
       "      <td>1.0</td>\n",
       "      <td>female</td>\n",
       "      <td>right handed</td>\n",
       "      <td>college/bachelor degree</td>\n",
       "      <td>no</td>\n",
       "      <td>city</td>\n",
       "      <td>block of flats</td>\n",
       "    </tr>\n",
       "    <tr>\n",
       "      <th>1009</th>\n",
       "      <td>5.0</td>\n",
       "      <td>5.0</td>\n",
       "      <td>4.0</td>\n",
       "      <td>3.0</td>\n",
       "      <td>2.0</td>\n",
       "      <td>3.0</td>\n",
       "      <td>3.0</td>\n",
       "      <td>4.0</td>\n",
       "      <td>1.0</td>\n",
       "      <td>1.0</td>\n",
       "      <td>...</td>\n",
       "      <td>21.0</td>\n",
       "      <td>185.0</td>\n",
       "      <td>72.0</td>\n",
       "      <td>1.0</td>\n",
       "      <td>male</td>\n",
       "      <td>right handed</td>\n",
       "      <td>secondary school</td>\n",
       "      <td>no</td>\n",
       "      <td>village</td>\n",
       "      <td>house/bungalow</td>\n",
       "    </tr>\n",
       "  </tbody>\n",
       "</table>\n",
       "<p>1010 rows × 150 columns</p>\n",
       "</div>"
      ],
      "text/plain": [
       "      Music  Slow songs or fast songs  Dance  Folk  Country  Classical music  \\\n",
       "0       5.0                       3.0    2.0   1.0      2.0              2.0   \n",
       "1       4.0                       4.0    2.0   1.0      1.0              1.0   \n",
       "2       5.0                       5.0    2.0   2.0      3.0              4.0   \n",
       "3       5.0                       3.0    2.0   1.0      1.0              1.0   \n",
       "4       5.0                       3.0    4.0   3.0      2.0              4.0   \n",
       "...     ...                       ...    ...   ...      ...              ...   \n",
       "1005    5.0                       2.0    5.0   2.0      2.0              5.0   \n",
       "1006    4.0                       4.0    5.0   1.0      3.0              4.0   \n",
       "1007    4.0                       3.0    1.0   1.0      2.0              2.0   \n",
       "1008    5.0                       3.0    3.0   3.0      1.0              3.0   \n",
       "1009    5.0                       5.0    4.0   3.0      2.0              3.0   \n",
       "\n",
       "      Musical  Pop  Rock  Metal or Hardrock  ...   Age  Height  Weight  \\\n",
       "0         1.0  5.0   5.0                1.0  ...  20.0   163.0    48.0   \n",
       "1         2.0  3.0   5.0                4.0  ...  19.0   163.0    58.0   \n",
       "2         5.0  3.0   5.0                3.0  ...  20.0   176.0    67.0   \n",
       "3         1.0  2.0   2.0                1.0  ...  22.0   172.0    59.0   \n",
       "4         3.0  5.0   3.0                1.0  ...  20.0   170.0    59.0   \n",
       "...       ...  ...   ...                ...  ...   ...     ...     ...   \n",
       "1005      4.0  4.0   4.0                3.0  ...  20.0   164.0    57.0   \n",
       "1006      1.0  4.0   1.0                1.0  ...  27.0   183.0    80.0   \n",
       "1007      2.0  3.0   4.0                1.0  ...  18.0   173.0    75.0   \n",
       "1008      1.0  3.0   4.0                1.0  ...  25.0   173.0    58.0   \n",
       "1009      3.0  4.0   1.0                1.0  ...  21.0   185.0    72.0   \n",
       "\n",
       "      Number of siblings  Gender  Left - right handed  \\\n",
       "0                    1.0  female         right handed   \n",
       "1                    2.0  female         right handed   \n",
       "2                    2.0  female         right handed   \n",
       "3                    1.0  female         right handed   \n",
       "4                    1.0  female         right handed   \n",
       "...                  ...     ...                  ...   \n",
       "1005                 1.0  female         right handed   \n",
       "1006                 5.0    male          left handed   \n",
       "1007                 0.0  female         right handed   \n",
       "1008                 1.0  female         right handed   \n",
       "1009                 1.0    male         right handed   \n",
       "\n",
       "                    Education  Only child  Village - town  \\\n",
       "0     college/bachelor degree          no         village   \n",
       "1     college/bachelor degree          no            city   \n",
       "2            secondary school          no            city   \n",
       "3     college/bachelor degree         yes            city   \n",
       "4            secondary school          no         village   \n",
       "...                       ...         ...             ...   \n",
       "1005         secondary school          no            city   \n",
       "1006           masters degree          no         village   \n",
       "1007         secondary school         yes            city   \n",
       "1008  college/bachelor degree          no            city   \n",
       "1009         secondary school          no         village   \n",
       "\n",
       "      House - block of flats  \n",
       "0             block of flats  \n",
       "1             block of flats  \n",
       "2             block of flats  \n",
       "3             house/bungalow  \n",
       "4             house/bungalow  \n",
       "...                      ...  \n",
       "1005          house/bungalow  \n",
       "1006          house/bungalow  \n",
       "1007          block of flats  \n",
       "1008          block of flats  \n",
       "1009          house/bungalow  \n",
       "\n",
       "[1010 rows x 150 columns]"
      ]
     },
     "execution_count": 21,
     "metadata": {},
     "output_type": "execute_result"
    }
   ],
   "source": [
    "datafile = pd.read_csv(\"responses.csv\",encoding = 'utf-8')\n",
    "datafile"
   ]
  },
  {
   "cell_type": "code",
   "execution_count": 57,
   "metadata": {},
   "outputs": [
    {
     "data": {
      "text/html": [
       "<div>\n",
       "<style scoped>\n",
       "    .dataframe tbody tr th:only-of-type {\n",
       "        vertical-align: middle;\n",
       "    }\n",
       "\n",
       "    .dataframe tbody tr th {\n",
       "        vertical-align: top;\n",
       "    }\n",
       "\n",
       "    .dataframe thead th {\n",
       "        text-align: right;\n",
       "    }\n",
       "</style>\n",
       "<table border=\"1\" class=\"dataframe\">\n",
       "  <thead>\n",
       "    <tr style=\"text-align: right;\">\n",
       "      <th></th>\n",
       "      <th>Man</th>\n",
       "      <th>Woman</th>\n",
       "    </tr>\n",
       "  </thead>\n",
       "  <tbody>\n",
       "    <tr>\n",
       "      <th>0</th>\n",
       "      <td>20.0</td>\n",
       "      <td>20.0</td>\n",
       "    </tr>\n",
       "    <tr>\n",
       "      <th>1</th>\n",
       "      <td>19.0</td>\n",
       "      <td>19.0</td>\n",
       "    </tr>\n",
       "    <tr>\n",
       "      <th>2</th>\n",
       "      <td>18.0</td>\n",
       "      <td>20.0</td>\n",
       "    </tr>\n",
       "    <tr>\n",
       "      <th>3</th>\n",
       "      <td>18.0</td>\n",
       "      <td>22.0</td>\n",
       "    </tr>\n",
       "    <tr>\n",
       "      <th>4</th>\n",
       "      <td>18.0</td>\n",
       "      <td>20.0</td>\n",
       "    </tr>\n",
       "    <tr>\n",
       "      <th>...</th>\n",
       "      <td>...</td>\n",
       "      <td>...</td>\n",
       "    </tr>\n",
       "    <tr>\n",
       "      <th>195</th>\n",
       "      <td>21.0</td>\n",
       "      <td>20.0</td>\n",
       "    </tr>\n",
       "    <tr>\n",
       "      <th>196</th>\n",
       "      <td>20.0</td>\n",
       "      <td>16.0</td>\n",
       "    </tr>\n",
       "    <tr>\n",
       "      <th>197</th>\n",
       "      <td>20.0</td>\n",
       "      <td>18.0</td>\n",
       "    </tr>\n",
       "    <tr>\n",
       "      <th>198</th>\n",
       "      <td>22.0</td>\n",
       "      <td>16.0</td>\n",
       "    </tr>\n",
       "    <tr>\n",
       "      <th>199</th>\n",
       "      <td>21.0</td>\n",
       "      <td>18.0</td>\n",
       "    </tr>\n",
       "  </tbody>\n",
       "</table>\n",
       "<p>200 rows × 2 columns</p>\n",
       "</div>"
      ],
      "text/plain": [
       "      Man  Woman\n",
       "0    20.0   20.0\n",
       "1    19.0   19.0\n",
       "2    18.0   20.0\n",
       "3    18.0   22.0\n",
       "4    18.0   20.0\n",
       "..    ...    ...\n",
       "195  21.0   20.0\n",
       "196  20.0   16.0\n",
       "197  20.0   18.0\n",
       "198  22.0   16.0\n",
       "199  21.0   18.0\n",
       "\n",
       "[200 rows x 2 columns]"
      ]
     },
     "execution_count": 57,
     "metadata": {},
     "output_type": "execute_result"
    }
   ],
   "source": [
    "table = pd.DataFrame(columns=['Man', 'Woman'])\n",
    "male = []\n",
    "female = []\n",
    "i = 0\n",
    "\n",
    "while True:\n",
    "    if (datafile['Gender'][i] == 'male' and len(male) < 200):\n",
    "        male.append(datafile['Age'][i])\n",
    "    if (datafile['Gender'][i] == 'female' and len(female) < 200):\n",
    "        female.append(datafile['Age'][i])\n",
    "    i += 1\n",
    "    if (len(male) == len(female)):\n",
    "        break\n",
    "table['Man'] = male     \n",
    "table['Woman'] = female\n",
    "table"
   ]
  },
  {
   "cell_type": "code",
   "execution_count": 53,
   "metadata": {},
   "outputs": [
    {
     "data": {
      "text/plain": [
       "[Text(0.5, 0, 'Age')]"
      ]
     },
     "execution_count": 53,
     "metadata": {},
     "output_type": "execute_result"
    },
    {
     "data": {
      "image/png": "[encoded data removed]",
      "text/plain": [
       "<Figure size 432x288 with 1 Axes>"
      ]
     },
     "metadata": {
      "needs_background": "light"
     },
     "output_type": "display_data"
    }
   ],
   "source": [
    "sns.boxplot(data=table, orient='h').set(xlabel='Age')"
   ]
  },
  {
   "cell_type": "markdown",
   "metadata": {},
   "source": [
    "\n",
    "Написати функції:\n",
    "\n",
    "для оцінки вімінностей дисперсій між групами за критерієм Лівеня. Функція має повертати значення тесту та результат оцінки рівності дисперсій (significant або not significant).\n",
    "\n",
    "для визначення відмінності між групами за критерієм Стьюдента в залежності від рівності/відмінності дисперсій. Функція має повертати значення критерію Стьюдента,значення ступеня свободи та результат оцінки значимості зв'зку (significant або not significant)."
   ]
  },
  {
   "cell_type": "code",
   "execution_count": 66,
   "metadata": {},
   "outputs": [],
   "source": [
    "def Levene(table):\n",
    "    df = len(table) - 1\n",
    "    std1 = np.std(table.iloc[:,0])\n",
    "    std2 = np.std(table.iloc[:,1])\n",
    "    F = std1**2/std2**2 if(std1 > std2) else std2**2/std1**2\n",
    "    liv = pd.read_excel(\"liv.xlsx\")\n",
    "    if (df > 20):\n",
    "        ft = liv.iloc[21,12]\n",
    "    elif (df > 15):\n",
    "        ft = liv.iloc[df,11]\n",
    "    elif (df > 10):\n",
    "        ft = liv.iloc[df,10]\n",
    "    else:\n",
    "        ft = liv.iloc[df,df]\n",
    "    result=\"Significiant\" if (F < ft) else \"Not significant\"\n",
    "    return df, F, result"
   ]
  },
  {
   "cell_type": "code",
   "execution_count": 79,
   "metadata": {},
   "outputs": [
    {
     "data": {
      "text/plain": [
       "(199, 1.271100218029956, 'Significiant')"
      ]
     },
     "execution_count": 79,
     "metadata": {},
     "output_type": "execute_result"
    }
   ],
   "source": [
    "Levene(table)"
   ]
  },
  {
   "cell_type": "code",
   "execution_count": 81,
   "metadata": {},
   "outputs": [],
   "source": [
    "def Student(data, liv): \n",
    "    mean_one = np.mean(data.iloc[:,0])\n",
    "    mean_two = np.mean(data.iloc[:,1])\n",
    "    st1 = np.std(data.iloc[:,0])\n",
    "    st2 = np.std(data.iloc[:,1])\n",
    "    n = len(data)\n",
    "    df = 2*n - 2\n",
    "    list_val= pd.read_excel(\"Std.xlsx\",encoding = 'utf-8') \n",
    "    val = 0\n",
    "    for i in range(len(list_val)):\n",
    "        if(df < int(list_val.iloc[i,0])):\n",
    "            if(df != list_val.iloc[i-1,0]):\n",
    "                val = (list_val.iloc[i-1,1] if((list_val.iloc[i,0]-df) >= abs(list_val.iloc[i-1,0]-df)) else list_val.iloc[i,1])\n",
    "                break\n",
    "            else:\n",
    "                val = list_val.iloc[i-1,1]\n",
    "                break\n",
    "    \n",
    "    print(\"df - \"+str(df))\n",
    "    print(\"value - \"+str(val))\n",
    "    t = 0\n",
    "    \n",
    "    if (liv[2] == \"significant\"):\n",
    "        t = abs(mean_one-mean_two)/np.sqrt(st1**2/n + st2**2/n)\n",
    "    else:\n",
    "        t = abs(mean_one-mean_two)/np.sqrt(((n-1)*(st1**2) + (n-1)*(st2**2))/(df)*(2/n))\n",
    "    \n",
    "    result = \"significant\" if(t < val) else \"not significant\"\n",
    "    return t,df,result"
   ]
  },
  {
   "cell_type": "code",
   "execution_count": 82,
   "metadata": {},
   "outputs": [
    {
     "name": "stdout",
     "output_type": "stream",
     "text": [
      "df - 398\n",
      "value - 0\n"
     ]
    },
    {
     "data": {
      "text/plain": [
       "(4.218303252046651, 398, 'not significant')"
      ]
     },
     "execution_count": 82,
     "metadata": {},
     "output_type": "execute_result"
    }
   ],
   "source": [
    "Student(table,Levene(table))"
   ]
  },
  {
   "cell_type": "markdown",
   "metadata": {},
   "source": [
    "Висновок:\n",
    "\n",
    "1) В результаті перевірки  за тестом Лівеня було, отримано результат f < ft(табличного). Отже потрібно прийняти нульову гіпотезу, тобто зробити висновок про статичну рівність дисперсій.\n",
    "\n",
    "2) В результаті перевірки відмінності  за допомогою критерію Стюдента для незалежних вибірок, було отримано результат t > t((табличного). Отже, робимо висновок про статичну відмінність середніх."
   ]
  },
  {
   "cell_type": "code",
   "execution_count": null,
   "metadata": {},
   "outputs": [],
   "source": []
  }
 ],
 "metadata": {
  "colab": {
   "authorship_tag": "ABX9TyN+ogRjA4zijScFngnncBiH",
   "collapsed_sections": [],
   "name": "Tast7.ipynb",
   "provenance": []
  },
  "kernelspec": {
   "display_name": "Python 3",
   "language": "python",
   "name": "python3"
  },
  "language_info": {
   "codemirror_mode": {
    "name": "ipython",
    "version": 3
   },
   "file_extension": ".py",
   "mimetype": "text/x-python",
   "name": "python",
   "nbconvert_exporter": "python",
   "pygments_lexer": "ipython3",
   "version": "3.8.2"
  }
 },
 "nbformat": 4,
 "nbformat_minor": 1
}
